{
  "nbformat": 4,
  "nbformat_minor": 0,
  "metadata": {
    "colab": {
      "name": "Network.ipynb",
      "provenance": [],
      "collapsed_sections": []
    },
    "kernelspec": {
      "name": "python3",
      "display_name": "Python 3"
    },
    "accelerator": "GPU"
  },
  "cells": [
    {
      "cell_type": "code",
      "metadata": {
        "id": "3TZywP2pmfFf",
        "colab_type": "code",
        "outputId": "8f00c5f4-4d68-46f5-9527-0fe81803201f",
        "colab": {
          "base_uri": "https://localhost:8080/",
          "height": 124
        }
      },
      "source": [
        "# mount the drive containing the dataset\n",
        "from google.colab import drive\n",
        "drive.mount('/content/drive')"
      ],
      "execution_count": 0,
      "outputs": [
        {
          "output_type": "stream",
          "text": [
            "Go to this URL in a browser: https://accounts.google.com/o/oauth2/auth?client_id=947318989803-6bn6qk8qdgf4n4g3pfee6491hc0brc4i.apps.googleusercontent.com&redirect_uri=urn%3aietf%3awg%3aoauth%3a2.0%3aoob&response_type=code&scope=email%20https%3a%2f%2fwww.googleapis.com%2fauth%2fdocs.test%20https%3a%2f%2fwww.googleapis.com%2fauth%2fdrive%20https%3a%2f%2fwww.googleapis.com%2fauth%2fdrive.photos.readonly%20https%3a%2f%2fwww.googleapis.com%2fauth%2fpeopleapi.readonly\n",
            "\n",
            "Enter your authorization code:\n",
            "··········\n",
            "Mounted at /content/drive\n"
          ],
          "name": "stdout"
        }
      ]
    },
    {
      "cell_type": "code",
      "metadata": {
        "id": "GDyDJK-yhpwF",
        "colab_type": "code",
        "colab": {}
      },
      "source": [
        "# unzip the gaze history files\n",
        "!unzip drive/My\\ Drive/PFE/Gaze_txt_files"
      ],
      "execution_count": 0,
      "outputs": []
    },
    {
      "cell_type": "code",
      "metadata": {
        "id": "4BrF5qgC13JC",
        "colab_type": "code",
        "colab": {}
      },
      "source": [
        "# create gaze dataset\n",
        "import numpy as np\n",
        "import os\n",
        "from sklearn import preprocessing\n",
        "import random\n",
        "\n",
        "\n",
        "raw_data_path = \"Gaze_txt_files\"\n",
        "dir_list = sorted(os.listdir(raw_data_path))\n",
        "p_num = len(dir_list)\n",
        "p_data_list = [{} for _ in range(p_num)]\n",
        "# fill p_data\n",
        "for dir_name in dir_list:\n",
        "  person_gaze_txt_path = os.path.join(raw_data_path, dir_name)\n",
        "  pid = int(dir_name.replace('p', ''))\n",
        "  for video_name in os.listdir(person_gaze_txt_path):\n",
        "    with open(os.path.join(person_gaze_txt_path,video_name), 'r') as f:\n",
        "      trajectory_list = f.read().split()\n",
        "      gaze_video_list = []\n",
        "      f = 0\n",
        "      for i in trajectory_list:\n",
        "        # add only gazes for the sampled frames\n",
        "        if f%5==0:\n",
        "          i = i.split(\",\")\n",
        "          x = float(i[-2])\n",
        "          y = float(i[-1])\n",
        "          gaze_video_list.append((x,y))\n",
        "        f+=1\n",
        "      p_data_list[int(pid)-1][int(video_name.split(\".\")[0])] = np.array(gaze_video_list)"
      ],
      "execution_count": 0,
      "outputs": []
    },
    {
      "cell_type": "code",
      "metadata": {
        "id": "rZUtclpuscRx",
        "colab_type": "code",
        "outputId": "73108b07-ddba-43d9-d20e-40f61589a86e",
        "colab": {
          "base_uri": "https://localhost:8080/",
          "height": 104
        }
      },
      "source": [
        "# show some message\n",
        "print('number of viewers: ', len(p_data_list))\n",
        "print('number of videos for the first viewer: ', len(p_data_list[1]))\n",
        "print('number of frames in the first video of first viewer (video 179): ', len(p_data_list[1][179]))\n",
        "print('maximal value in video gazes : ', p_data_list[1][179].max())\n",
        "print('minimal value in video gazes : ', p_data_list[1][179].min())"
      ],
      "execution_count": 0,
      "outputs": [
        {
          "output_type": "stream",
          "text": [
            "number of viewers:  45\n",
            "number of videos for the first viewer:  36\n",
            "number of frames in the first video of first viewer (video 179):  296\n",
            "maximal value in video gazes :  0.9594789\n",
            "minimal value in video gazes :  0.008680457\n"
          ],
          "name": "stdout"
        }
      ]
    },
    {
      "cell_type": "code",
      "metadata": {
        "id": "gpNas3CeJKrt",
        "colab_type": "code",
        "colab": {}
      },
      "source": [
        "# get all videos's gazes and store them in a list\n",
        "videos_frames_list = np.array([np.array([j, p_data_list[i][j]]) for i in range(len(p_data_list)) for j in p_data_list[i].keys()])"
      ],
      "execution_count": 0,
      "outputs": []
    },
    {
      "cell_type": "code",
      "metadata": {
        "id": "2UC1cWJtf9DX",
        "colab_type": "code",
        "outputId": "bf020c17-00ba-433a-c670-96bdb5ec1519",
        "colab": {
          "base_uri": "https://localhost:8080/",
          "height": 191
        }
      },
      "source": [
        "# show some information\n",
        "print(\"number of total gazes history files: \", len(videos_frames_list))\n",
        "for i in range(1, 100, 11):\n",
        "  print(\"number of viewers who watched video\",i,\": \", np.sum(videos_frames_list[:,0]==i))"
      ],
      "execution_count": 0,
      "outputs": [
        {
          "output_type": "stream",
          "text": [
            "number of total gazes history files:  6654\n",
            "number of viewers who watched video 1 :  33\n",
            "number of viewers who watched video 12 :  33\n",
            "number of viewers who watched video 23 :  33\n",
            "number of viewers who watched video 34 :  33\n",
            "number of viewers who watched video 45 :  30\n",
            "number of viewers who watched video 56 :  30\n",
            "number of viewers who watched video 67 :  30\n",
            "number of viewers who watched video 78 :  34\n",
            "number of viewers who watched video 89 :  34\n"
          ],
          "name": "stdout"
        }
      ]
    },
    {
      "cell_type": "code",
      "metadata": {
        "id": "h8pDIqkStztg",
        "colab_type": "code",
        "colab": {}
      },
      "source": [
        "def get_sampled_frames(gazes_history,f_i=5, step=5):\n",
        "  if f_i - step + 1 < 0 or f_i + step + 1 > len(gazes_history[1]):\n",
        "    return [], []\n",
        "  # use the history gaze path in the first step frames to predict the gaze points in next step frames\n",
        "  frames_X = np.array(gazes_history[1][f_i-step+1:f_i+1])\n",
        "  frames_Y = np.array(gazes_history[1][f_i+1:f_i+step+1]) - frames_X\n",
        "  return frames_X, frames_Y"
      ],
      "execution_count": 0,
      "outputs": []
    },
    {
      "cell_type": "code",
      "metadata": {
        "id": "WWrFhh2Vqlp1",
        "colab_type": "code",
        "colab": {}
      },
      "source": [
        "# get the excel file containing the video names used in the training and testing\n",
        "!cp drive/My\\ Drive/PFE/train_test_set.xlsx ."
      ],
      "execution_count": 0,
      "outputs": []
    },
    {
      "cell_type": "code",
      "metadata": {
        "id": "W6MEvO0ouelh",
        "colab_type": "code",
        "colab": {}
      },
      "source": [
        "# load train_test videos indices from the excel file \n",
        "import pandas as pd\n",
        "train_ids = pd.read_excel(\"train_test_set.xlsx\",header=None, sheet_name='train_set').to_numpy().flatten()\n",
        "test_ids = pd.read_excel(\"train_test_set.xlsx\",header=None, sheet_name='test_set').to_numpy().flatten()"
      ],
      "execution_count": 0,
      "outputs": []
    },
    {
      "cell_type": "code",
      "metadata": {
        "id": "YFbpGIeBz-wB",
        "colab_type": "code",
        "colab": {}
      },
      "source": [
        "def generate_dataset(train_ids, test_ids, videos_frames_list):\n",
        "  train_x = []\n",
        "  train_y = []\n",
        "  test_x = []\n",
        "  test_y = []\n",
        "  # create the dataset of training\n",
        "  for i in train_ids:\n",
        "    video_all_viewers = videos_frames_list[videos_frames_list[:,0]==i]\n",
        "    for view in video_all_viewers:\n",
        "      for frame in range(4, len(view[1])-5):\n",
        "        sampled_frames = get_sampled_frames(view, frame)\n",
        "        train_x.append(sampled_frames[0])\n",
        "        train_y.append(sampled_frames[1])\n",
        "  # create the dataset of testing\n",
        "  for i in test_ids:\n",
        "    video_all_viewers = videos_frames_list[videos_frames_list[:,0]==i]\n",
        "    # a video can have many viewers\n",
        "    for view in video_all_viewers:\n",
        "      # get a gaze trace for each 5 frames\n",
        "      for frame in range(4, len(view[1])-5):\n",
        "        sampled_frames = get_sampled_frames(view, frame)\n",
        "        test_x.append(sampled_frames[0])\n",
        "        test_y.append(sampled_frames[1])\n",
        "  return np.array(train_x), np.array(train_y), np.array(test_x), np.array(test_y)"
      ],
      "execution_count": 0,
      "outputs": []
    },
    {
      "cell_type": "code",
      "metadata": {
        "id": "0XwgbIuhfizm",
        "colab_type": "code",
        "colab": {}
      },
      "source": [
        "train_x, train_y, test_x, test_y = generate_dataset(train_ids,\n",
        "                                                    test_ids,\n",
        "                                                    videos_frames_list)"
      ],
      "execution_count": 0,
      "outputs": []
    },
    {
      "cell_type": "code",
      "metadata": {
        "id": "1bIxoxl-kx9P",
        "colab_type": "code",
        "colab": {}
      },
      "source": [
        "from keras.models import Model\n",
        "from keras.layers import Input, LSTM, Dense, Lambda, concatenate, Reshape, Add\n",
        "from keras.applications.inception_resnet_v2 import InceptionResNetV2\n",
        "\n",
        "from keras import backend as K\n",
        "\n",
        "\"\"\"\n",
        "The trajectory encoder module\n",
        "\"\"\"\n",
        "# Define an input sequence of previous gazes and process it.\n",
        "encoder_inputs = Input(shape=(None, 2))\n",
        "# Define the first lstm layer\n",
        "lstm1 = LSTM(128, return_sequences=True, return_state=True)\n",
        "# Define the second lstm layer\n",
        "lstm2 = LSTM(128)\n",
        "\n",
        "\"\"\"\n",
        "The Saliency encoder module\n",
        "\"\"\"\n",
        "# Define input for all spatial and temporal saliency maps and process it.\n",
        "saliency_inputs = Input(shape=(5, 480*6, 960, 3))\n",
        "# get  Inception-ResNet-V2 to extract saliency features for gaze prediction followed with a global pooling\n",
        "inception = InceptionResNetV2(weights='imagenet', include_top=False, input_shape=(480*6, 960, 3), pooling='avg')\n",
        "#saliency_encoder_outputs\n",
        "\n",
        "all_displacement_outputs=[]\n",
        "traj_inputs = encoder_inputs\n",
        "\n",
        "for i in range(5):\n",
        "  # apply the first lstm on the trajectory history of the 5 gazes\n",
        "  lstm1_outputs, state_h, state_c = lstm1(traj_inputs)\n",
        "  lstm1_states = [state_h, state_c]\n",
        "  # Set up the second lstm, using 'lstm1_states' as initial state.\n",
        "  trajectory_encoder_outputs = lstm2(lstm1_outputs,\n",
        "                                  initial_state=lstm1_states)\n",
        "  # get only the current saliency input at frame t\n",
        "  current_saliency_input = Lambda(lambda x: x[:,i])(saliency_inputs)\n",
        "  # apply inception on the current saliency input\n",
        "  current_saliency_inception = inception(current_saliency_input)\n",
        "  \"\"\"\n",
        "  Displacement Prediction Module\n",
        "  \"\"\"\n",
        "  # Concatenate s the output of saliency encoder module and trajectory encoder module\n",
        "  merged = concatenate([current_saliency_inception, trajectory_encoder_outputs])\n",
        "  # use two fully connected layer to estimate the displacement between the gaze point at time t + 1 and gaze point at time t\n",
        "  dense_1000 = Dense(1000)(merged)\n",
        "  displacement_output = Dense(2, activation='sigmoid')(dense_1000)\n",
        "  # get the current gaze positions at frame t to add to the predicted gaze displacement\n",
        "  current_gaze_t = Lambda(lambda x: x[:,-1])(traj_inputs)\n",
        "  traj_inputs = concatenate([traj_inputs, Reshape((1,2))(Add()([current_gaze_t, displacement_output]))], 1)\n",
        "  # append the current predicted gaze point at t+1 to the list of 5 predicted outputs\n",
        "  all_displacement_outputs.append(displacement_output)\n",
        "# concatenate all the element of the output list to get the final output\n",
        "displacement_outputs = Reshape((5,2))(concatenate(all_displacement_outputs,1))\n",
        "# Create the proposed model\n",
        "model = Model([encoder_inputs, saliency_inputs], displacement_outputs)"
      ],
      "execution_count": 0,
      "outputs": []
    },
    {
      "cell_type": "code",
      "metadata": {
        "id": "rKqodZoWlwgN",
        "colab_type": "code",
        "outputId": "422fb0ce-22ac-4b52-eaed-f742a625cab4",
        "colab": {
          "base_uri": "https://localhost:8080/",
          "height": 1000
        }
      },
      "source": [
        "model.summary()"
      ],
      "execution_count": 2,
      "outputs": [
        {
          "output_type": "stream",
          "text": [
            "Model: \"model_1\"\n",
            "__________________________________________________________________________________________________\n",
            "Layer (type)                    Output Shape         Param #     Connected to                     \n",
            "==================================================================================================\n",
            "input_2 (InputLayer)            (None, 5, 2880, 960, 0                                            \n",
            "__________________________________________________________________________________________________\n",
            "input_1 (InputLayer)            (None, None, 2)      0                                            \n",
            "__________________________________________________________________________________________________\n",
            "lambda_1 (Lambda)               (None, 2880, 960, 3) 0           input_2[0][0]                    \n",
            "__________________________________________________________________________________________________\n",
            "lstm_1 (LSTM)                   [(None, None, 128),  67072       input_1[0][0]                    \n",
            "                                                                 concatenate_2[0][0]              \n",
            "                                                                 concatenate_4[0][0]              \n",
            "                                                                 concatenate_6[0][0]              \n",
            "                                                                 concatenate_8[0][0]              \n",
            "__________________________________________________________________________________________________\n",
            "inception_resnet_v2 (Model)     (None, 1536)         54336736    lambda_1[0][0]                   \n",
            "                                                                 lambda_3[0][0]                   \n",
            "                                                                 lambda_5[0][0]                   \n",
            "                                                                 lambda_7[0][0]                   \n",
            "                                                                 lambda_9[0][0]                   \n",
            "__________________________________________________________________________________________________\n",
            "lstm_2 (LSTM)                   (None, 128)          131584      lstm_1[0][0]                     \n",
            "                                                                 lstm_1[0][1]                     \n",
            "                                                                 lstm_1[0][2]                     \n",
            "                                                                 lstm_1[1][0]                     \n",
            "                                                                 lstm_1[1][1]                     \n",
            "                                                                 lstm_1[1][2]                     \n",
            "                                                                 lstm_1[2][0]                     \n",
            "                                                                 lstm_1[2][1]                     \n",
            "                                                                 lstm_1[2][2]                     \n",
            "                                                                 lstm_1[3][0]                     \n",
            "                                                                 lstm_1[3][1]                     \n",
            "                                                                 lstm_1[3][2]                     \n",
            "                                                                 lstm_1[4][0]                     \n",
            "                                                                 lstm_1[4][1]                     \n",
            "                                                                 lstm_1[4][2]                     \n",
            "__________________________________________________________________________________________________\n",
            "concatenate_1 (Concatenate)     (None, 1664)         0           inception_resnet_v2[1][0]        \n",
            "                                                                 lstm_2[0][0]                     \n",
            "__________________________________________________________________________________________________\n",
            "dense_1 (Dense)                 (None, 1000)         1665000     concatenate_1[0][0]              \n",
            "__________________________________________________________________________________________________\n",
            "dense_2 (Dense)                 (None, 2)            2002        dense_1[0][0]                    \n",
            "__________________________________________________________________________________________________\n",
            "lambda_2 (Lambda)               (None, 2)            0           input_1[0][0]                    \n",
            "__________________________________________________________________________________________________\n",
            "add_1 (Add)                     (None, 2)            0           lambda_2[0][0]                   \n",
            "                                                                 dense_2[0][0]                    \n",
            "__________________________________________________________________________________________________\n",
            "reshape_1 (Reshape)             (None, 1, 2)         0           add_1[0][0]                      \n",
            "__________________________________________________________________________________________________\n",
            "concatenate_2 (Concatenate)     (None, None, 2)      0           input_1[0][0]                    \n",
            "                                                                 reshape_1[0][0]                  \n",
            "__________________________________________________________________________________________________\n",
            "lambda_3 (Lambda)               (None, 2880, 960, 3) 0           input_2[0][0]                    \n",
            "__________________________________________________________________________________________________\n",
            "concatenate_3 (Concatenate)     (None, 1664)         0           inception_resnet_v2[2][0]        \n",
            "                                                                 lstm_2[1][0]                     \n",
            "__________________________________________________________________________________________________\n",
            "dense_3 (Dense)                 (None, 1000)         1665000     concatenate_3[0][0]              \n",
            "__________________________________________________________________________________________________\n",
            "dense_4 (Dense)                 (None, 2)            2002        dense_3[0][0]                    \n",
            "__________________________________________________________________________________________________\n",
            "lambda_4 (Lambda)               (None, 2)            0           concatenate_2[0][0]              \n",
            "__________________________________________________________________________________________________\n",
            "add_2 (Add)                     (None, 2)            0           lambda_4[0][0]                   \n",
            "                                                                 dense_4[0][0]                    \n",
            "__________________________________________________________________________________________________\n",
            "reshape_2 (Reshape)             (None, 1, 2)         0           add_2[0][0]                      \n",
            "__________________________________________________________________________________________________\n",
            "concatenate_4 (Concatenate)     (None, None, 2)      0           concatenate_2[0][0]              \n",
            "                                                                 reshape_2[0][0]                  \n",
            "__________________________________________________________________________________________________\n",
            "lambda_5 (Lambda)               (None, 2880, 960, 3) 0           input_2[0][0]                    \n",
            "__________________________________________________________________________________________________\n",
            "concatenate_5 (Concatenate)     (None, 1664)         0           inception_resnet_v2[3][0]        \n",
            "                                                                 lstm_2[2][0]                     \n",
            "__________________________________________________________________________________________________\n",
            "dense_5 (Dense)                 (None, 1000)         1665000     concatenate_5[0][0]              \n",
            "__________________________________________________________________________________________________\n",
            "dense_6 (Dense)                 (None, 2)            2002        dense_5[0][0]                    \n",
            "__________________________________________________________________________________________________\n",
            "lambda_6 (Lambda)               (None, 2)            0           concatenate_4[0][0]              \n",
            "__________________________________________________________________________________________________\n",
            "add_3 (Add)                     (None, 2)            0           lambda_6[0][0]                   \n",
            "                                                                 dense_6[0][0]                    \n",
            "__________________________________________________________________________________________________\n",
            "reshape_3 (Reshape)             (None, 1, 2)         0           add_3[0][0]                      \n",
            "__________________________________________________________________________________________________\n",
            "concatenate_6 (Concatenate)     (None, None, 2)      0           concatenate_4[0][0]              \n",
            "                                                                 reshape_3[0][0]                  \n",
            "__________________________________________________________________________________________________\n",
            "lambda_7 (Lambda)               (None, 2880, 960, 3) 0           input_2[0][0]                    \n",
            "__________________________________________________________________________________________________\n",
            "concatenate_7 (Concatenate)     (None, 1664)         0           inception_resnet_v2[4][0]        \n",
            "                                                                 lstm_2[3][0]                     \n",
            "__________________________________________________________________________________________________\n",
            "dense_7 (Dense)                 (None, 1000)         1665000     concatenate_7[0][0]              \n",
            "__________________________________________________________________________________________________\n",
            "dense_8 (Dense)                 (None, 2)            2002        dense_7[0][0]                    \n",
            "__________________________________________________________________________________________________\n",
            "lambda_8 (Lambda)               (None, 2)            0           concatenate_6[0][0]              \n",
            "__________________________________________________________________________________________________\n",
            "add_4 (Add)                     (None, 2)            0           lambda_8[0][0]                   \n",
            "                                                                 dense_8[0][0]                    \n",
            "__________________________________________________________________________________________________\n",
            "reshape_4 (Reshape)             (None, 1, 2)         0           add_4[0][0]                      \n",
            "__________________________________________________________________________________________________\n",
            "concatenate_8 (Concatenate)     (None, None, 2)      0           concatenate_6[0][0]              \n",
            "                                                                 reshape_4[0][0]                  \n",
            "__________________________________________________________________________________________________\n",
            "lambda_9 (Lambda)               (None, 2880, 960, 3) 0           input_2[0][0]                    \n",
            "__________________________________________________________________________________________________\n",
            "concatenate_9 (Concatenate)     (None, 1664)         0           inception_resnet_v2[5][0]        \n",
            "                                                                 lstm_2[4][0]                     \n",
            "__________________________________________________________________________________________________\n",
            "dense_9 (Dense)                 (None, 1000)         1665000     concatenate_9[0][0]              \n",
            "__________________________________________________________________________________________________\n",
            "dense_10 (Dense)                (None, 2)            2002        dense_9[0][0]                    \n",
            "__________________________________________________________________________________________________\n",
            "concatenate_11 (Concatenate)    (None, 10)           0           dense_2[0][0]                    \n",
            "                                                                 dense_4[0][0]                    \n",
            "                                                                 dense_6[0][0]                    \n",
            "                                                                 dense_8[0][0]                    \n",
            "                                                                 dense_10[0][0]                   \n",
            "__________________________________________________________________________________________________\n",
            "reshape_6 (Reshape)             (None, 5, 2)         0           concatenate_11[0][0]             \n",
            "==================================================================================================\n",
            "Total params: 62,870,402\n",
            "Trainable params: 62,809,858\n",
            "Non-trainable params: 60,544\n",
            "__________________________________________________________________________________________________\n"
          ],
          "name": "stdout"
        }
      ]
    },
    {
      "cell_type": "code",
      "metadata": {
        "id": "jBc0bswqlMTL",
        "colab_type": "code",
        "colab": {}
      },
      "source": [
        "# Compile the model\n",
        "from keras.optimizers import SGD\n",
        "sgd = SGD(lr=0.1, decay=5e-4, momentum=0.9)\n",
        "model.compile(optimizer=sgd, loss='mean_squared_error')"
      ],
      "execution_count": 0,
      "outputs": []
    },
    {
      "cell_type": "code",
      "metadata": {
        "id": "JIGY83n0lOc0",
        "colab_type": "code",
        "outputId": "c4379f6a-32f5-490e-c01d-7af11f48a001",
        "colab": {
          "base_uri": "https://localhost:8080/",
          "height": 416
        }
      },
      "source": [
        "hist = model.fit(train_x, train_y, validation_split=0.10, batch_size=512, epochs=20)"
      ],
      "execution_count": 0,
      "outputs": [
        {
          "output_type": "stream",
          "text": [
            "Train on 783552 samples, validate on 87062 samples\n",
            "Epoch 1/20\n",
            "783552/783552 [==============================] - 216s 275us/step - loss: 0.0306 - val_loss: 0.0219\n",
            "Epoch 2/20\n",
            "783552/783552 [==============================] - 201s 256us/step - loss: 0.0280 - val_loss: 0.0219\n",
            "Epoch 3/20\n",
            "783552/783552 [==============================] - 200s 256us/step - loss: 0.0280 - val_loss: 0.0219\n",
            "Epoch 4/20\n",
            "783552/783552 [==============================] - 201s 256us/step - loss: 0.0280 - val_loss: 0.0219\n",
            "Epoch 5/20\n",
            "783552/783552 [==============================] - 195s 249us/step - loss: 0.0280 - val_loss: 0.0219\n",
            "Epoch 6/20\n",
            "783552/783552 [==============================] - 190s 243us/step - loss: 0.0280 - val_loss: 0.0219\n",
            "Epoch 7/20\n",
            "783552/783552 [==============================] - 196s 250us/step - loss: 0.0280 - val_loss: 0.0219\n",
            "Epoch 8/20\n",
            "783552/783552 [==============================] - 200s 255us/step - loss: 0.0280 - val_loss: 0.0219\n",
            "Epoch 9/20\n",
            "783552/783552 [==============================] - 197s 252us/step - loss: 0.0280 - val_loss: 0.0219\n",
            "Epoch 10/20\n",
            "783552/783552 [==============================] - 195s 249us/step - loss: 0.0279 - val_loss: 0.0218\n",
            "Epoch 11/20\n",
            "654848/783552 [========================>.....] - ETA: 31s - loss: 0.0279"
          ],
          "name": "stdout"
        }
      ]
    },
    {
      "cell_type": "code",
      "metadata": {
        "id": "BcKGCXGq73bR",
        "colab_type": "code",
        "outputId": "557b9183-c7c3-4f12-e9a5-28dd0050e31f",
        "colab": {
          "base_uri": "https://localhost:8080/",
          "height": 104
        }
      },
      "source": [
        "test_y[10:11]"
      ],
      "execution_count": 0,
      "outputs": [
        {
          "output_type": "execute_result",
          "data": {
            "text/plain": [
              "array([[[0.5016659, 0.4817111],\n",
              "        [0.5002428, 0.4873397],\n",
              "        [0.4950311, 0.4852373],\n",
              "        [0.4498359, 0.4880946],\n",
              "        [0.4475695, 0.4842822]]])"
            ]
          },
          "metadata": {
            "tags": []
          },
          "execution_count": 147
        }
      ]
    },
    {
      "cell_type": "code",
      "metadata": {
        "id": "8iDCu79qeHkn",
        "colab_type": "code",
        "outputId": "3b35528d-a4ff-427f-8a3d-28b66b75b5ec",
        "colab": {
          "base_uri": "https://localhost:8080/",
          "height": 104
        }
      },
      "source": [
        "model.predict(test_x[10:11])"
      ],
      "execution_count": 0,
      "outputs": [
        {
          "output_type": "execute_result",
          "data": {
            "text/plain": [
              "array([[[0.5145015 , 0.54397964],\n",
              "        [0.5351348 , 0.541896  ],\n",
              "        [0.5416983 , 0.53524816],\n",
              "        [0.54063916, 0.53550714],\n",
              "        [0.5448361 , 0.52955645]]], dtype=float32)"
            ]
          },
          "metadata": {
            "tags": []
          },
          "execution_count": 146
        }
      ]
    },
    {
      "cell_type": "code",
      "metadata": {
        "id": "64oNpgy9X3NO",
        "colab_type": "code",
        "outputId": "84ee60c0-9f3e-4bac-edca-ab6dac45d235",
        "colab": {
          "base_uri": "https://localhost:8080/",
          "height": 587
        }
      },
      "source": [
        "from keras.models import Model\n",
        "from keras.layers import Input, LSTM, Dense, concatenate\n",
        "from keras.applications.inception_resnet_v2 import InceptionResNetV2\n",
        "\n",
        "\"\"\"\n",
        "The trajectory encoder module\n",
        "\"\"\"\n",
        "# Define an input sequence of previous gazes and process it.\n",
        "encoder_inputs = Input(shape=(None, 2))\n",
        "# Define the first lstm layer\n",
        "lstm1 = LSTM(128, return_sequences=True, return_state=True)\n",
        "lstm1_outputs, state_h, state_c = lstm1(encoder_inputs)\n",
        "lstm1_states = [state_h, state_c]\n",
        "# Define the second lstm layer\n",
        "lstm2 = LSTM(128)\n",
        "# Set up the second lstm, using `lstm1_states` as initial state.\n",
        "trajectory_encoder_outputs = lstm2(lstm1_outputs,\n",
        "                                initial_state=lstm1_states)\n",
        "\"\"\"\n",
        "The Saliency encoder module\n",
        "\"\"\"\n",
        "# Define input for all spatial and temporal saliency maps and process it.\n",
        "saliency_inputs = Input(shape=(480*6, 960, 3))\n",
        "# Use  Inception-ResNet-V2 to extract saliency features for gaze prediction followed with a global pooling\n",
        "saliency_encoder_outputs = InceptionResNetV2(weights='imagenet', include_top=False, pooling='avg')(saliency_inputs)\n",
        "\"\"\"\n",
        "Displacement Prediction Module\n",
        "\"\"\"\n",
        "# Concatenate s the output of saliency encoder module and trajectory encoder module\n",
        "merged = concatenate([saliency_encoder_outputs, trajectory_encoder_outputs])\n",
        "# use two fully connected layer to estimate the displacement between the gaze point at time t + 1 and gaze point at time t:\n",
        "x = Dense(1000)(merged)\n",
        "displacement_outputs = Dense(2)(x)\n",
        "\n",
        "# Create the proposed model\n",
        "model = Model([encoder_inputs, saliency_inputs], displacement_outputs)"
      ],
      "execution_count": 0,
      "outputs": [
        {
          "output_type": "stream",
          "text": [
            "Using TensorFlow backend.\n"
          ],
          "name": "stderr"
        },
        {
          "output_type": "display_data",
          "data": {
            "text/html": [
              "<p style=\"color: red;\">\n",
              "The default version of TensorFlow in Colab will soon switch to TensorFlow 2.x.<br>\n",
              "We recommend you <a href=\"https://www.tensorflow.org/guide/migrate\" target=\"_blank\">upgrade</a> now \n",
              "or ensure your notebook will continue to use TensorFlow 1.x via the <code>%tensorflow_version 1.x</code> magic:\n",
              "<a href=\"https://colab.research.google.com/notebooks/tensorflow_version.ipynb\" target=\"_blank\">more info</a>.</p>\n"
            ],
            "text/plain": [
              "<IPython.core.display.HTML object>"
            ]
          },
          "metadata": {
            "tags": []
          }
        },
        {
          "output_type": "stream",
          "text": [
            "WARNING:tensorflow:From /usr/local/lib/python3.6/dist-packages/keras/backend/tensorflow_backend.py:66: The name tf.get_default_graph is deprecated. Please use tf.compat.v1.get_default_graph instead.\n",
            "\n",
            "WARNING:tensorflow:From /usr/local/lib/python3.6/dist-packages/keras/backend/tensorflow_backend.py:541: The name tf.placeholder is deprecated. Please use tf.compat.v1.placeholder instead.\n",
            "\n",
            "WARNING:tensorflow:From /usr/local/lib/python3.6/dist-packages/keras/backend/tensorflow_backend.py:4432: The name tf.random_uniform is deprecated. Please use tf.random.uniform instead.\n",
            "\n",
            "WARNING:tensorflow:From /usr/local/lib/python3.6/dist-packages/keras/backend/tensorflow_backend.py:190: The name tf.get_default_session is deprecated. Please use tf.compat.v1.get_default_session instead.\n",
            "\n",
            "WARNING:tensorflow:From /usr/local/lib/python3.6/dist-packages/keras/backend/tensorflow_backend.py:197: The name tf.ConfigProto is deprecated. Please use tf.compat.v1.ConfigProto instead.\n",
            "\n",
            "WARNING:tensorflow:From /usr/local/lib/python3.6/dist-packages/keras/backend/tensorflow_backend.py:203: The name tf.Session is deprecated. Please use tf.compat.v1.Session instead.\n",
            "\n",
            "WARNING:tensorflow:From /usr/local/lib/python3.6/dist-packages/keras/backend/tensorflow_backend.py:207: The name tf.global_variables is deprecated. Please use tf.compat.v1.global_variables instead.\n",
            "\n",
            "WARNING:tensorflow:From /usr/local/lib/python3.6/dist-packages/keras/backend/tensorflow_backend.py:216: The name tf.is_variable_initialized is deprecated. Please use tf.compat.v1.is_variable_initialized instead.\n",
            "\n",
            "WARNING:tensorflow:From /usr/local/lib/python3.6/dist-packages/keras/backend/tensorflow_backend.py:223: The name tf.variables_initializer is deprecated. Please use tf.compat.v1.variables_initializer instead.\n",
            "\n",
            "WARNING:tensorflow:From /usr/local/lib/python3.6/dist-packages/keras/backend/tensorflow_backend.py:2041: The name tf.nn.fused_batch_norm is deprecated. Please use tf.compat.v1.nn.fused_batch_norm instead.\n",
            "\n",
            "WARNING:tensorflow:From /usr/local/lib/python3.6/dist-packages/keras/backend/tensorflow_backend.py:148: The name tf.placeholder_with_default is deprecated. Please use tf.compat.v1.placeholder_with_default instead.\n",
            "\n",
            "WARNING:tensorflow:From /usr/local/lib/python3.6/dist-packages/keras/backend/tensorflow_backend.py:4267: The name tf.nn.max_pool is deprecated. Please use tf.nn.max_pool2d instead.\n",
            "\n",
            "WARNING:tensorflow:From /usr/local/lib/python3.6/dist-packages/keras/backend/tensorflow_backend.py:4271: The name tf.nn.avg_pool is deprecated. Please use tf.nn.avg_pool2d instead.\n",
            "\n",
            "Downloading data from https://github.com/fchollet/deep-learning-models/releases/download/v0.7/inception_resnet_v2_weights_tf_dim_ordering_tf_kernels_notop.h5\n",
            "219062272/219055592 [==============================] - 7s 0us/step\n"
          ],
          "name": "stdout"
        }
      ]
    },
    {
      "cell_type": "code",
      "metadata": {
        "id": "QyEiduw8jrGe",
        "colab_type": "code",
        "outputId": "c3f8c387-3db0-492a-8a7e-973b5f10d577",
        "colab": {
          "base_uri": "https://localhost:8080/",
          "height": 485
        }
      },
      "source": [
        "# here is a summary of the global architecture\n",
        "model.summary()"
      ],
      "execution_count": 0,
      "outputs": [
        {
          "output_type": "stream",
          "text": [
            "Model: \"model_4\"\n",
            "__________________________________________________________________________________________________\n",
            "Layer (type)                    Output Shape         Param #     Connected to                     \n",
            "==================================================================================================\n",
            "input_11 (InputLayer)           (None, None, 2)      0                                            \n",
            "__________________________________________________________________________________________________\n",
            "input_12 (InputLayer)           (None, 3840, 960, 3) 0                                            \n",
            "__________________________________________________________________________________________________\n",
            "lstm_1 (LSTM)                   [(None, None, 128),  67072       input_11[0][0]                   \n",
            "__________________________________________________________________________________________________\n",
            "inception_resnet_v2 (Model)     (None, 1536)         54336736    input_12[0][0]                   \n",
            "__________________________________________________________________________________________________\n",
            "lstm_2 (LSTM)                   (None, 128)          131584      lstm_1[0][0]                     \n",
            "                                                                 lstm_1[0][1]                     \n",
            "                                                                 lstm_1[0][2]                     \n",
            "__________________________________________________________________________________________________\n",
            "concatenate_1 (Concatenate)     (None, 1664)         0           inception_resnet_v2[1][0]        \n",
            "                                                                 lstm_2[0][0]                     \n",
            "__________________________________________________________________________________________________\n",
            "dense_1 (Dense)                 (None, 1000)         1665000     concatenate_1[0][0]              \n",
            "__________________________________________________________________________________________________\n",
            "dense_2 (Dense)                 (None, 2)            2002        dense_1[0][0]                    \n",
            "==================================================================================================\n",
            "Total params: 56,202,394\n",
            "Trainable params: 56,141,850\n",
            "Non-trainable params: 60,544\n",
            "__________________________________________________________________________________________________\n"
          ],
          "name": "stdout"
        }
      ]
    },
    {
      "cell_type": "code",
      "metadata": {
        "id": "ZP8B8TrJXpAR",
        "colab_type": "code",
        "outputId": "61f9b7f2-eedb-4e50-a89d-dcf898978805",
        "colab": {
          "base_uri": "https://localhost:8080/",
          "height": 107
        }
      },
      "source": [
        "# Compile the model\n",
        "from keras.optimizers import SGD\n",
        "sgd = SGD(lr=0.1, decay=5e-4, momentum=0.9)\n",
        "model.compile(optimizer=sgd, loss='categorical_crossentropy')"
      ],
      "execution_count": 0,
      "outputs": [
        {
          "output_type": "stream",
          "text": [
            "WARNING:tensorflow:From /usr/local/lib/python3.6/dist-packages/keras/optimizers.py:793: The name tf.train.Optimizer is deprecated. Please use tf.compat.v1.train.Optimizer instead.\n",
            "\n",
            "WARNING:tensorflow:From /usr/local/lib/python3.6/dist-packages/keras/backend/tensorflow_backend.py:3576: The name tf.log is deprecated. Please use tf.math.log instead.\n",
            "\n"
          ],
          "name": "stdout"
        }
      ]
    }
  ]
}