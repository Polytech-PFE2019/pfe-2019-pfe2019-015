{
  "nbformat": 4,
  "nbformat_minor": 0,
  "metadata": {
    "colab": {
      "name": "Network.ipynb",
      "provenance": []
    },
    "kernelspec": {
      "name": "python3",
      "display_name": "Python 3"
    }
  },
  "cells": [
    {
      "cell_type": "code",
      "metadata": {
        "id": "3TZywP2pmfFf",
        "colab_type": "code",
        "colab": {
          "base_uri": "https://localhost:8080/",
          "height": 124
        },
        "outputId": "4765f901-4d0a-47df-f2af-138d8428d08a"
      },
      "source": [
        "# to load the dataset from google drive\n",
        "from google.colab import drive\n",
        "drive.mount('/content/drive')"
      ],
      "execution_count": 1,
      "outputs": [
        {
          "output_type": "stream",
          "text": [
            "Go to this URL in a browser: https://accounts.google.com/o/oauth2/auth?client_id=947318989803-6bn6qk8qdgf4n4g3pfee6491hc0brc4i.apps.googleusercontent.com&redirect_uri=urn%3aietf%3awg%3aoauth%3a2.0%3aoob&response_type=code&scope=email%20https%3a%2f%2fwww.googleapis.com%2fauth%2fdocs.test%20https%3a%2f%2fwww.googleapis.com%2fauth%2fdrive%20https%3a%2f%2fwww.googleapis.com%2fauth%2fdrive.photos.readonly%20https%3a%2f%2fwww.googleapis.com%2fauth%2fpeopleapi.readonly\n",
            "\n",
            "Enter your authorization code:\n",
            "··········\n",
            "Mounted at /content/drive\n"
          ],
          "name": "stdout"
        }
      ]
    },
    {
      "cell_type": "code",
      "metadata": {
        "id": "GDyDJK-yhpwF",
        "colab_type": "code",
        "colab": {}
      },
      "source": [
        "# unzip the gaze history files\n",
        "!unzip drive/My\\ Drive/PFE/Gaze_txt_files"
      ],
      "execution_count": 0,
      "outputs": []
    },
    {
      "cell_type": "code",
      "metadata": {
        "id": "4BrF5qgC13JC",
        "colab_type": "code",
        "colab": {}
      },
      "source": [
        "# create gaze dataset\n",
        "import os\n",
        "from sklearn import preprocessing\n",
        "import random\n",
        "\n",
        "\n",
        "raw_data_path = \"Gaze_txt_files\"\n",
        "dir_list = sorted(os.listdir(raw_data_path))\n",
        "p_num = len(dir_list)\n",
        "p_data_list = [{} for _ in range(p_num)]\n",
        "# fill p_data\n",
        "max_t = 0\n",
        "for dir_name in dir_list:\n",
        "  person_gaze_txt_path = os.path.join(raw_data_path, dir_name)\n",
        "  pid = int(dir_name.replace('p', ''))\n",
        "  for video_name in os.listdir(person_gaze_txt_path):\n",
        "    with open(os.path.join(person_gaze_txt_path,video_name), 'r') as f:\n",
        "      trajectory_list = f.read().split()\n",
        "      gaze_video_list = []\n",
        "      for i in trajectory_list:\n",
        "        i = i.split(\",\")\n",
        "        x = float(i[-2])\n",
        "        y = float(i[-1])\n",
        "        gaze_video_list.append((x,y))\n",
        "      # normalize the values of latitude and longitude before adding them to the dictionary\n",
        "      min_max_scaler = preprocessing.MinMaxScaler()\n",
        "      x_scaled = min_max_scaler.fit_transform(gaze_video_list)\n",
        "      p_data_list[int(pid)-1][int(video_name.split(\".\")[0])] = x_scaled"
      ],
      "execution_count": 0,
      "outputs": []
    },
    {
      "cell_type": "code",
      "metadata": {
        "id": "rZUtclpuscRx",
        "colab_type": "code",
        "colab": {
          "base_uri": "https://localhost:8080/",
          "height": 104
        },
        "outputId": "34ef1bb1-a2c0-451e-ff7e-997c34553751"
      },
      "source": [
        "# show some message\n",
        "print('viewer data list size: ', len(p_data_list))\n",
        "print('number of videos for the first viewer: ', len(p_data_list[1]))\n",
        "print('number of frames in the first video of first viewer (video 179): ', len(p_data_list[1][179]))\n",
        "print('maximal value in video gazes : ', p_data_list[1][179].max())\n",
        "print('minimal value in video gazes : ', p_data_list[1][179].min())"
      ],
      "execution_count": 43,
      "outputs": [
        {
          "output_type": "stream",
          "text": [
            "viewer data list size:  45\n",
            "number of videos for the first viewer:  36\n",
            "number of frames in the first video of first viewer(179):  1479\n",
            "maximal value in video gazes :  1.0\n",
            "minimal value in video gazes :  0.0\n"
          ],
          "name": "stdout"
        }
      ]
    },
    {
      "cell_type": "code",
      "metadata": {
        "id": "64oNpgy9X3NO",
        "colab_type": "code",
        "colab": {}
      },
      "source": [
        "from keras.models import Model\n",
        "from keras.layers import Input, LSTM, Dense, concatenate\n",
        "from keras.applications.inception_resnet_v2 import InceptionResNetV2\n",
        "\n",
        "\"\"\"\n",
        "The trajectory encoder module\n",
        "\"\"\"\n",
        "# Define an input sequence of previous gazes and process it.\n",
        "encoder_inputs = Input(shape=(None, 2))\n",
        "# Define the first lstm layer\n",
        "lstm1 = LSTM(128, return_sequences=True, return_state=True)\n",
        "lstm1_outputs, state_h, state_c = lstm1(encoder_inputs)\n",
        "lstm1_states = [state_h, state_c]\n",
        "# Define the second lstm layer\n",
        "lstm2 = LSTM(128)\n",
        "# Set up the second lstm, using `lstm1_states` as initial state.\n",
        "trajectory_encoder_outputs = lstm2(lstm1_outputs,\n",
        "                                initial_state=lstm1_states)\n",
        "\"\"\"\n",
        "The Saliency encoder module\n",
        "\"\"\"\n",
        "# Define input for all spatial and temporal saliency maps and process it.\n",
        "saliency_inputs = Input(shape=(480*8, 960, 3))\n",
        "# Use  Inception-ResNet-V2 to extract saliency features for gaze prediction followed with a global pooling\n",
        "saliency_encoder_outputs = InceptionResNetV2(weights='imagenet', include_top=False, pooling='avg')(saliency_inputs)\n",
        "\"\"\"\n",
        "Displacement Prediction Module\n",
        "\"\"\"\n",
        "# Concatenate s the output of saliency encoder module and trajectory encoder module\n",
        "merged = concatenate([saliency_encoder_outputs, trajectory_encoder_outputs])\n",
        "# use two fully connected layer to estimate the displacement between the gaze point at time t + 1 and gaze point at time t:\n",
        "x = Dense(1000)(merged)\n",
        "displacement_outputs = Dense(2)(x)\n",
        "\n",
        "# Create the proposed model\n",
        "model = Model([encoder_inputs, saliency_inputs], displacement_outputs)"
      ],
      "execution_count": 0,
      "outputs": []
    },
    {
      "cell_type": "code",
      "metadata": {
        "id": "QyEiduw8jrGe",
        "colab_type": "code",
        "colab": {
          "base_uri": "https://localhost:8080/",
          "height": 485
        },
        "outputId": "c3f8c387-3db0-492a-8a7e-973b5f10d577"
      },
      "source": [
        "# here is a summary of the global architecture\n",
        "model.summary()"
      ],
      "execution_count": 11,
      "outputs": [
        {
          "output_type": "stream",
          "text": [
            "Model: \"model_4\"\n",
            "__________________________________________________________________________________________________\n",
            "Layer (type)                    Output Shape         Param #     Connected to                     \n",
            "==================================================================================================\n",
            "input_11 (InputLayer)           (None, None, 2)      0                                            \n",
            "__________________________________________________________________________________________________\n",
            "input_12 (InputLayer)           (None, 3840, 960, 3) 0                                            \n",
            "__________________________________________________________________________________________________\n",
            "lstm_1 (LSTM)                   [(None, None, 128),  67072       input_11[0][0]                   \n",
            "__________________________________________________________________________________________________\n",
            "inception_resnet_v2 (Model)     (None, 1536)         54336736    input_12[0][0]                   \n",
            "__________________________________________________________________________________________________\n",
            "lstm_2 (LSTM)                   (None, 128)          131584      lstm_1[0][0]                     \n",
            "                                                                 lstm_1[0][1]                     \n",
            "                                                                 lstm_1[0][2]                     \n",
            "__________________________________________________________________________________________________\n",
            "concatenate_1 (Concatenate)     (None, 1664)         0           inception_resnet_v2[1][0]        \n",
            "                                                                 lstm_2[0][0]                     \n",
            "__________________________________________________________________________________________________\n",
            "dense_1 (Dense)                 (None, 1000)         1665000     concatenate_1[0][0]              \n",
            "__________________________________________________________________________________________________\n",
            "dense_2 (Dense)                 (None, 2)            2002        dense_1[0][0]                    \n",
            "==================================================================================================\n",
            "Total params: 56,202,394\n",
            "Trainable params: 56,141,850\n",
            "Non-trainable params: 60,544\n",
            "__________________________________________________________________________________________________\n"
          ],
          "name": "stdout"
        }
      ]
    },
    {
      "cell_type": "code",
      "metadata": {
        "id": "ZP8B8TrJXpAR",
        "colab_type": "code",
        "colab": {
          "base_uri": "https://localhost:8080/",
          "height": 107
        },
        "outputId": "61f9b7f2-eedb-4e50-a89d-dcf898978805"
      },
      "source": [
        "# Compile the model\n",
        "from keras.optimizers import SGD\n",
        "sgd = SGD(lr=0.1, decay=5e-4, momentum=0.9)\n",
        "model.compile(optimizer=sgd, loss='categorical_crossentropy')"
      ],
      "execution_count": 14,
      "outputs": [
        {
          "output_type": "stream",
          "text": [
            "WARNING:tensorflow:From /usr/local/lib/python3.6/dist-packages/keras/optimizers.py:793: The name tf.train.Optimizer is deprecated. Please use tf.compat.v1.train.Optimizer instead.\n",
            "\n",
            "WARNING:tensorflow:From /usr/local/lib/python3.6/dist-packages/keras/backend/tensorflow_backend.py:3576: The name tf.log is deprecated. Please use tf.math.log instead.\n",
            "\n"
          ],
          "name": "stdout"
        }
      ]
    }
  ]
}